{
 "cells": [
  {
   "cell_type": "markdown",
   "id": "eedb4449-e2a1-40a4-85c9-69ebbc270c4b",
   "metadata": {},
   "source": [
    "# Quantum Channel Detection:\n",
    "\n",
    "**This code includes implementation and simulations of Sections 2 and 3 from the paper by:**\n",
    "\n",
    "<p style=\"text-align: center;\"><b>C. Macchiavello and M. Rossi Dipartimento di Fisica and INFN-Sezione di Pavia, Italy</b></p>\n",
    "\n",
    "* **The method detects properties of quantum channels, assuming that some a priori information about the form of the channel is available**\n",
    "* **The method is based on a correspondence with entanglement detection methods for multipartite density matrices based on witness operators**\n"
   ]
  },
  {
   "cell_type": "markdown",
   "id": "b2224c63-cc03-4df7-ab99-417ff5402f3c",
   "metadata": {},
   "source": [
    "# Importing"
   ]
  },
  {
   "cell_type": "code",
   "execution_count": 2,
   "id": "ab6861e2-814e-417f-bd94-aeb54db974d1",
   "metadata": {},
   "outputs": [],
   "source": [
    "# Useful additional packages \n",
    "import matplotlib.pyplot as plt\n",
    "import numpy as np\n",
    "from math import pi\n",
    "import os\n",
    "from copy import deepcopy"
   ]
  },
  {
   "cell_type": "code",
   "execution_count": 2,
   "id": "e320402f-8e9f-47b9-a501-b697a849a2d1",
   "metadata": {},
   "outputs": [],
   "source": [
    "from qiskit import QuantumCircuit, ClassicalRegister, QuantumRegister, transpile, Aer, execute, assemble\n",
    "from qiskit.tools.visualization import circuit_drawer, plot_bloch_multivector, plot_histogram\n",
    "import qiskit.quantum_info as qi"
   ]
  },
  {
   "cell_type": "code",
   "execution_count": 3,
   "id": "6ff8e062-e6bc-4a01-9a6d-ac1e66d2a9a1",
   "metadata": {},
   "outputs": [
    {
     "name": "stderr",
     "output_type": "stream",
     "text": [
      "/var/folders/mt/r41fpk8j6fs92x69_9hy27f40000gn/T/ipykernel_84531/3077517601.py:2: DeprecationWarning: The package qiskit.providers.ibmq is being deprecated. Please see https://ibm.biz/provider_migration_guide to get instructions on how to migrate to qiskit-ibm-provider (https://github.com/Qiskit/qiskit-ibm-provider) and qiskit-ibm-runtime (https://github.com/Qiskit/qiskit-ibm-runtime).\n",
      "  IBMQ.load_account()\n",
      "/var/folders/mt/r41fpk8j6fs92x69_9hy27f40000gn/T/ipykernel_84531/3077517601.py:2: DeprecationWarning: The qiskit.IBMQ entrypoint and the qiskit-ibmq-provider package (accessible from 'qiskit.providers.ibmq`) are deprecated and will be removed in a future release. Instead you should use the qiskit-ibm-provider package which is accessible from 'qiskit_ibm_provider'. You can install it with 'pip install qiskit_ibm_provider'. Just replace 'qiskit.IBMQ' with 'qiskit_ibm_provider.IBMProvider'\n",
      "  IBMQ.load_account()\n"
     ]
    }
   ],
   "source": [
    "from qiskit import IBMQ\n",
    "IBMQ.load_account()\n",
    "# provider = IBMQ.get_provider(hub='ibm-q-wits', group='internal', project='stellenbosch-uni')\n",
    "provider = IBMQ.get_provider(hub='ibm-q', group='open', project='main')"
   ]
  },
  {
   "cell_type": "markdown",
   "id": "69664b1c-3c84-4b88-934a-ddcdec738111",
   "metadata": {
    "tags": []
   },
   "source": [
    "# Functions"
   ]
  },
  {
   "cell_type": "code",
   "execution_count": 4,
   "id": "effbd402-3e4f-4659-94b1-82fefe945518",
   "metadata": {
    "tags": []
   },
   "outputs": [],
   "source": [
    "\"\"\"Calculates expectation value of a witness operator.\n",
    "\n",
    "Takes as input a Qiskit counts dictionary for a set of physically measured\n",
    "operators\n",
    "\"\"\"\n",
    "\n",
    "\n",
    "def compare(pauli_str_wit, pauli_str_exp):\n",
    "    \"\"\"Check whether pauli_wit can be derived from pauli_exp.\n",
    "    i.e. we want to know whether all non-'I' entries of pauli_wit match up\n",
    "    with pauli_exp\n",
    "    \"\"\"\n",
    "    all_match = True\n",
    "    for i in range(len(pauli_str_wit)):\n",
    "        if pauli_str_wit[i] != 'I':\n",
    "            if pauli_str_wit[i] != pauli_str_exp[i]:\n",
    "                all_match = False\n",
    "\n",
    "    return all_match\n",
    "\n",
    "def expectation_from_counts(op_str, counts):\n",
    "    \"\"\"Calculate the expectation value of multi-qubit operator.\n",
    "\n",
    "    Takes as input a Qiskit counts dict. If the operator contains identities\n",
    "    the counts dict for a different but matching operator may be substituted.\n",
    "\n",
    "    e.g. for 'XIXI' the counts dict of 'XYXZ' may be used.\n",
    "    \"\"\"\n",
    "    # For Validation:\n",
    "    \n",
    "    # print(\"op_str:\", op_str)\n",
    "    # print(\"counts:\", counts)\n",
    "    expectation_val = 0\n",
    "    for outcome, outcome_count in counts.items():\n",
    "        eigval = 1\n",
    "        for i in range(len(op_str)):\n",
    "            if op_str[i] != 'I':\n",
    "                eigval *= -1 if outcome[i] == '1' else 1\n",
    "\n",
    "        expectation_val += eigval * outcome_count\n",
    "\n",
    "    expectation_val /= total_shots\n",
    "\n",
    "    return expectation_val\n",
    "\n",
    "\n",
    "# Define the function to calculate expectation value of W_CNOT\n",
    "\n",
    "def calculate_expectation_value(basis_wit, bases_exp, binary_counts):\n",
    "    \"\"\"Calculate the expectation value of a witness operator.\n",
    "\n",
    "    Takes as input the witness operator basis, a list of expected operator bases,\n",
    "    and a Qiskit counts dictionary for a set of physically measured operators.\n",
    "\n",
    "    Parameters:\n",
    "    - basis_wit (list of tuples): List of tuples, each containing the sign and Pauli string of a witness operator.\n",
    "    - bases_exp (list of strings): List of expected operator bases.\n",
    "    - counts (dict): Qiskit counts dictionary containing the outcomes of quantum measurements.\n",
    "\n",
    "    Returns:\n",
    "    - float: The calculated expectation value of the witness operator.\n",
    "    \"\"\"\n",
    "    # For Validation:\n",
    "    \n",
    "    # print(\"basis_wit:\", basis_wit)\n",
    "    # print(\"bases_exp:\", bases_exp)\n",
    "    # print(\"binary_counts:\", binary_counts)\n",
    "\n",
    "    expectation_val_wit = 0\n",
    "    # match_list = []\n",
    "    for tup in basis_wit:\n",
    "        sign = tup[0]\n",
    "        pauli_str_wit = tup[1]\n",
    "\n",
    "        for pauli_str_exp in bases_exp:\n",
    "            if compare(pauli_str_wit, pauli_str_exp):\n",
    "                # match_list.append(pauli_str_wit)\n",
    "                expectation_val_wit += sign * expectation_from_counts(pauli_str_exp, binary_counts)\n",
    "                break\n",
    "\n",
    "    expectation_val_wit /= total_shots\n",
    "    return expectation_val_wit #,match_list\n",
    "\n",
    "def str_from_hexa(key):\n",
    "    \"\"\"\n",
    "    Convert a hexadecimal key to its binary representation as a string.\n",
    "\n",
    "    Args:\n",
    "        key (str): Hexadecimal key to be converted.\n",
    "\n",
    "    Returns:\n",
    "        str: Binary representation of the key as a string.\n",
    "    \"\"\"\n",
    "    # Convert the hexadecimal key to an integer and then to a binary string\n",
    "    binary_str = str(bin(int(key, 16)))[2:]\n",
    "    \n",
    "    # Return the binary representation\n",
    "    return binary_str.zfill(4)\n",
    "\n",
    "def rename_keys_to_str(counts_dict):\n",
    "    \"\"\"\n",
    "    Convert hexadecimal keys in a counts dictionary to binary strings.\n",
    "\n",
    "    Args:\n",
    "        counts_dict (dict): Dictionary of counts with hexadecimal keys.\n",
    "\n",
    "    Returns:\n",
    "        dict: Dictionary of counts with binary string keys.\n",
    "    \"\"\"\n",
    "    binary_counts_dict = {str_from_hexa(key): val for key, val in counts_dict.items()}\n",
    "    return binary_counts_dict\n",
    "\n",
    "# # Example usage:\n",
    "# result = result_manila.result()\n",
    "# job_index = 0  # Replace with the index of the job result you want to process\n",
    "# counts_dict = result.results[job_index].data.counts\n",
    "# binary_counts_dict = dict_str_key(counts_dict)\n",
    "# print(binary_counts_dict)"
   ]
  },
  {
   "cell_type": "markdown",
   "id": "f5f3608f-46c7-4883-8a4c-acdf3bc94075",
   "metadata": {
    "tags": []
   },
   "source": [
    "# States & Operators Definitions:"
   ]
  },
  {
   "cell_type": "code",
   "execution_count": 5,
   "id": "aa1c97e6-309a-4d42-9a16-06cc12ce6aa5",
   "metadata": {
    "tags": []
   },
   "outputs": [
    {
     "name": "stdout",
     "output_type": "stream",
     "text": [
      "[[ 0.   0.  -0.   0. ]\n",
      " [ 0.   0.5 -0.5  0. ]\n",
      " [-0.  -0.5  0.5 -0. ]\n",
      " [ 0.   0.  -0.   0. ]]\n"
     ]
    }
   ],
   "source": [
    "XX = qi.Pauli('XX')\n",
    "YY = qi.Pauli('YY') \n",
    "ZZ = qi.Pauli('ZZ')\n",
    "II = qi.Operator.from_label('II')\n",
    "\n",
    "# Matrix representations of Pauli operators\n",
    "XX_matrix = XX.to_matrix()\n",
    "YY_matrix = YY.to_matrix()\n",
    "ZZ_matrix = ZZ.to_matrix()\n",
    "II_matrix = np.eye(4)\n",
    "\n",
    "\n",
    "# Define the maximally entangled state |α⟩⟨α|\n",
    "alpha = np.array([0, 1, -1, 0]) / np.sqrt(2)\n",
    "alpha_density_matrix = np.outer(alpha, alpha.conj())\n",
    "print(alpha_density_matrix)\n",
    "\n",
    "\n",
    "# Bell's Density matrices:\n",
    "\n",
    "v00 = qi.Statevector.from_label('00')\n",
    "v01 = qi.Statevector.from_label('01')\n",
    "v10 = qi.Statevector.from_label('10')\n",
    "v11 = qi.Statevector.from_label('11')\n",
    "\n",
    "PhiPlus = qi.DensityMatrix(1/np.sqrt(2)*(v00+v11))\n",
    "PhiMinus = qi.DensityMatrix(1/np.sqrt(2)*(v00-v11))\n",
    "PsiPlus = qi.DensityMatrix(1/np.sqrt(2)*(v01+v10))\n",
    "PsiMinus = qi.DensityMatrix(1/np.sqrt(2)*(v01-v10))\n",
    "\n",
    "# Bell_state_list = [PhiPlus, PhiMinus, PsiPlus, PsiMinus]\n"
   ]
  },
  {
   "cell_type": "markdown",
   "id": "3e14a11c-5a6e-4583-a9fe-19cf07d7c4c8",
   "metadata": {
    "tags": []
   },
   "source": [
    "# Section 2: Detection of Entanglement Breaking in the Depolarising Channel Using Witness Operator:\n",
    "* **Warner State is the corresponding set of Choi bipartite density operators**"
   ]
  },
  {
   "cell_type": "code",
   "execution_count": 6,
   "id": "9b86e397-499f-4602-9a6a-58d5734203f9",
   "metadata": {
    "tags": []
   },
   "outputs": [
    {
     "name": "stdout",
     "output_type": "stream",
     "text": [
      "Trace in Numpy is: 0.9999999999999998\n",
      "Trace in Qiskit is: (0.9999999999999998+0j)\n",
      "\n",
      "Type in Numpy is: <class 'numpy.ndarray'>\n",
      "Type in Qiskit is: <class 'qiskit.quantum_info.states.densitymatrix.DensityMatrix'>\n",
      "\n",
      "Werner state Numpy:\n",
      "\n",
      "[[ 0.   0.   0.   0. ]\n",
      " [ 0.   0.5 -0.5  0. ]\n",
      " [ 0.  -0.5  0.5  0. ]\n",
      " [ 0.   0.   0.   0. ]]\n",
      "\n",
      "Werner state Qiskit:\n",
      "\n",
      "DensityMatrix([[ 0. +0.j,  0. +0.j,  0. +0.j,  0. +0.j],\n",
      "               [ 0. +0.j,  0.5+0.j, -0.5+0.j,  0. +0.j],\n",
      "               [ 0. +0.j, -0.5+0.j,  0.5+0.j,  0. +0.j],\n",
      "               [ 0. +0.j,  0. +0.j,  0. +0.j,  0. +0.j]],\n",
      "              dims=(2, 2))\n"
     ]
    }
   ],
   "source": [
    "#  Numpy:\n",
    "# Create the Werner density matrix ρₚ\n",
    "werner_density_matrix_lambda = lambda p: (1 - 4/3 * p) * alpha_density_matrix + (p/3) * II_matrix\n",
    "\n",
    "# Create the Witness Operator\n",
    "Witness_EB_matrix = 0.5 * (II_matrix + XX_matrix + YY_matrix + ZZ_matrix)\n",
    "\n",
    "# Same with Qskit:\n",
    "werner_density_matrix_lambda_qiskit = lambda p: (1 - 4/3 * p) * PsiMinus + (p/3) * II       # No sure which Bell state\n",
    "Witness_EB = 0.5 * (II + XX + YY + ZZ)                                              # Signs !\n",
    "\n",
    "# Tests:\n",
    "print(\"Trace in Numpy is:\", np.trace(werner_density_matrix_lambda(0)))\n",
    "print(\"Trace in Qiskit is:\", werner_density_matrix_lambda_qiskit(0).trace())\n",
    "print()\n",
    "print(\"Type in Numpy is:\", type(werner_density_matrix_lambda(0)))\n",
    "print(\"Type in Qiskit is:\", type(werner_density_matrix_lambda_qiskit(0)))\n",
    "print()\n",
    "print(\"Werner state Numpy:\")\n",
    "print()\n",
    "print(werner_density_matrix_lambda(0))\n",
    "print()\n",
    "print(\"Werner state Qiskit:\")\n",
    "print()\n",
    "print(werner_density_matrix_lambda_qiskit(0))"
   ]
  },
  {
   "cell_type": "markdown",
   "id": "04ddd8e2-dbfe-424a-90e1-cdd758d0857e",
   "metadata": {
    "tags": []
   },
   "source": [
    "# Applying & Ploting \n",
    "* Applying $W_{EB}$ on $\\rho_p$, the Werner density matrix, fro diffrent values of $p\\in [0,1]$, and ploting\n",
    "* The process is done in both Qiskit and Numpy (for practice and debugging)"
   ]
  },
  {
   "cell_type": "code",
   "execution_count": 7,
   "id": "3f4451ef-1e95-4bf9-99b7-c04da42f0d5d",
   "metadata": {
    "tags": []
   },
   "outputs": [],
   "source": [
    "# Parameters\n",
    "p_list = list(np.linspace(0, 1, 100))\n",
    "trace_list = []\n",
    "trace_list_qiskit = []\n",
    "\n",
    "for val in p_list:\n",
    "    witness_werner = Witness_EB_matrix @ werner_density_matrix_lambda(val)\n",
    "    # print(witness_werner)\n",
    "    # witness_werner = qi.DensityMatrix(werner_density_matrix_lambda(val)).evolve(qi.Operator(Witness_EB_matrix))\n",
    "    Tr_witness_werner = np.trace(witness_werner)\n",
    "    trace_list.append(Tr_witness_werner)\n",
    "    \n",
    "    witness_werner_qiskit = Witness_EB @ werner_density_matrix_lambda_qiskit(val).to_operator()\n",
    "    # witness_werner_qiskit = Witness_EB.data @ werner_density_matrix_lambda_qiskit(val).data # Also an option\n",
    "    \n",
    "    Tr_qiskit = np.trace(witness_werner_qiskit)\n",
    "    # Tr_qiskit = witness_werner_qiskit.trace() # rasies an error \n",
    "    trace_list_qiskit.append(Tr_qiskit)\n",
    "    \n",
    "# Plot the results\n",
    "\n",
    "# plt.plot(p_list, trace_list, label='By Numpy')\n",
    "\n",
    "# plt.plot(p_list, trace_list_qiskit, label='By Qiskit')\n",
    "\n",
    "# plt.xlabel('p')\n",
    "# plt.ylabel(r'$\\mu_c$')\n",
    "# plt.title(r'Tr [$Witness_{EB} \\cdot C_{M}}$ vs p$\\in [0,1]$')\n",
    "# plt.grid()\n",
    "# # plt.legend()\n",
    "# plt.show()\n"
   ]
  },
  {
   "cell_type": "markdown",
   "id": "d1f38ba7-87b2-4a10-bdd6-f415eef16c72",
   "metadata": {
    "tags": []
   },
   "source": [
    "# Section 3: Detection Separability of (Random) Unitary"
   ]
  },
  {
   "cell_type": "markdown",
   "id": "686a7166-0ea2-4fd9-9aeb-8dbb191bab1c",
   "metadata": {
    "tags": []
   },
   "source": [
    "<!-- # Not Necessarily Useful... (Focused on Sec.III at the Moment)\n",
    "**Witness Operators for general PPT Channels - steps:** \n",
    "\n",
    "* We want to detect entanglement in NPT/PPT map; $\\mathcal{M}$\n",
    "* We difiene the witness operator:\n",
    "* $$W_{PPT}= \\ket{\\lambda_{-}} \\bra{\\lambda_{-}}^\\mathcal{T_A}$$\n",
    "* $\\ket{\\lambda_{-}}$ is most negative value of the NPT (or PPT, right?) map $\\mathcal{M}$\n",
    "* For the general case I will probably implement $W_{PPT}$ by Eq.(40) from the main paper\n",
    "\n",
    "\n",
    "* **Reading on Witness in general**\n",
    "* **Ref.(7) (idea)**\n",
    "* **Sec.V** -->"
   ]
  },
  {
   "cell_type": "code",
   "execution_count": 8,
   "id": "9e413829-4388-403c-b6e4-5d268c31848f",
   "metadata": {
    "tags": []
   },
   "outputs": [
    {
     "name": "stdout",
     "output_type": "stream",
     "text": [
      "Circuit In Basic Form Before Measurement Composition and Execution:\n"
     ]
    },
    {
     "data": {
      "image/png": "[encoded data removed]",
      "text/plain": [
       "<Figure size 538.33x451.5 with 1 Axes>"
      ]
     },
     "execution_count": 8,
     "metadata": {},
     "output_type": "execute_result"
    }
   ],
   "source": [
    "# Bell's Density matrices:\n",
    "# v00, v01, v10, v11, PhiPlus, PhiMinus, PsiPlus, PsiMinus are defined here\n",
    "\n",
    "# Step 1: Create the quantum circuit\n",
    "qc = QuantumCircuit(4, 4)\n",
    "\n",
    "# Choose Bell states for qubits AC and BD\n",
    "rho_AC = PhiPlus  # Choose the desired Bell state for qubits AC\n",
    "rho_BD = PhiPlus  # Choose the desired Bell state for qubits BD\n",
    "\n",
    "# Extract amplitudes from the density matrices\n",
    "amplitudes_AC = np.sqrt(np.diag(rho_AC.data))\n",
    "amplitudes_BD = np.sqrt(np.diag(rho_BD.data))\n",
    "\n",
    "# Apply initialization to qubits AC and BD\n",
    "qc.initialize(amplitudes_AC, [0, 2])\n",
    "qc.initialize(amplitudes_BD, [1, 3])\n",
    "\n",
    "# Apply CNOT gate on qubits A and B\n",
    "qc.cx(0, 1)\n",
    "\n",
    "# Visualize the circuit without measurements\n",
    "print('Circuit In Basic Form Before Measurement Composition and Execution:')\n",
    "qc.draw('mpl')\n",
    "\n"
   ]
  },
  {
   "cell_type": "markdown",
   "id": "dec11186-e08e-48f6-86be-64ac9e5d61d4",
   "metadata": {
    "tags": []
   },
   "source": [
    "$W_{CNOT}=$\n",
    "$\\frac{1}{64}[31*1111−1X1X−XXX1−X1XX−ZZ1Z+ZY1Y +YYXZ+YZXY−Z1Z1−ZXZX+YXY 1+Y1YX−1ZZZ+1YZY +XYYZ+XZYY]$\n",
    "\n",
    "By the paper, the expectation values of operators: [$1X1X$ , $XXX1$ , $X1XX$]\n",
    "\n",
    "can be obtained by measuring the operator XXXX and suitably processing the experimental data.\n",
    "\n",
    "Similar groupings can be done for the other terms in $W_{CNOT}$"
   ]
  },
  {
   "cell_type": "code",
   "execution_count": 9,
   "id": "e960e3ef-118e-4f8f-bb81-e736d8447aeb",
   "metadata": {
    "tags": []
   },
   "outputs": [],
   "source": [
    "# Define the measurement bases\n",
    "\n",
    "bases_exp = ['XXXX', 'ZZZZ', 'ZYZY', 'YXYX', 'YYXZ', 'YZXY', 'ZXZX', 'XYYZ', 'ZXYY']\n",
    "\n",
    "bases_wit = [(31, 'IIII'),(-1, 'IXIX'),(-1, 'XXXI'),(-1, 'XIIX'),\n",
    "             (-1, 'ZZIZ'),(+1, 'ZYIY'),(+1, 'YYXZ'),(+1, 'YZXY'),\n",
    "             (-1, 'ZIZI'),(-1, 'ZXZX'),(+1, 'YXYI'),(+1, 'YIYX'),\n",
    "             (-1, 'IZZZ'),(+1, 'IYZY'),(+1, 'XYYZ'),(+1, 'XZYY')]"
   ]
  },
  {
   "cell_type": "markdown",
   "id": "d54ad00b-49a7-42b4-988a-195c9855eb63",
   "metadata": {
    "tags": []
   },
   "source": [
    "**Use Aer's qasm_simulator Or Real Quantum Device:**"
   ]
  },
  {
   "cell_type": "code",
   "execution_count": 10,
   "id": "295eeb30-00b9-483e-8cc4-e7e78f399caf",
   "metadata": {
    "tags": []
   },
   "outputs": [
    {
     "name": "stdout",
     "output_type": "stream",
     "text": [
      "Job length is:  9\n"
     ]
    }
   ],
   "source": [
    "# backend_sim = Aer.get_backend('qasm_simulator') # Simulator\n",
    "backend_manila = provider.get_backend('ibmq_manila') # Real Machine\n",
    "\n",
    "circ_list = []\n",
    "composed_circuit_list =[]\n",
    "\n",
    "# Loop over each basis_exp\n",
    "expectation_values = []\n",
    "for basis in bases_exp:\n",
    "    temp_qc = deepcopy(qc)\n",
    "\n",
    "    # Apply gates for the specified basis_wit\n",
    "    for i, gate in enumerate(basis):  # Use basis to access the Pauli string\n",
    "    \n",
    "        if gate == 'X':\n",
    "            temp_qc.h(i)\n",
    "        elif gate == 'Y':\n",
    "            temp_qc.sdg(i)\n",
    "            temp_qc.h(i)\n",
    "    # print(temp_qc) Validation\n",
    "\n",
    "    # Measure the circuit\n",
    "    temp_qc.measure([0, 1, 2, 3], [0, 1, 2, 3])\n",
    "    composed_circuit_list.append(temp_qc)\n",
    "    temp_qc = transpile(temp_qc, backend_manila)\n",
    "    circ_list.append(temp_qc)\n",
    "\n",
    "\n",
    "job_length = len(circ_list)\n",
    "print('Job length is: ',job_length)  "
   ]
  },
  {
   "cell_type": "markdown",
   "id": "1e79e409-7b2c-4ce7-b686-7f76e9641035",
   "metadata": {},
   "source": [
    "# **Plot Before Execute !**\n",
    "**UnComment of Circuit Was Changed**"
   ]
  },
  {
   "cell_type": "code",
   "execution_count": 11,
   "id": "e32ac628-cb2f-4033-a2e0-523b878e1f09",
   "metadata": {
    "jupyter": {
     "source_hidden": true
    },
    "tags": []
   },
   "outputs": [],
   "source": [
    "# # Get the current working directory\n",
    "# current_directory = os.getcwd()\n",
    "\n",
    "# # Create the 'CircuitPlots' directory if it doesn't exist\n",
    "# if not os.path.exists('CircuitPlots'):\n",
    "#     os.makedirs('CircuitPlots')\n",
    "\n",
    "# # Create the 'TranspiledCircuitPlots' directory if it doesn't exist\n",
    "# if not os.path.exists('TranspiledCircuitPlots'):\n",
    "#     os.makedirs('TranspiledCircuitPlots')\n",
    "\n",
    "# # Iterate through the list of quantum circuits and save each plot\n",
    "# for i, circuit in enumerate(composed_circuit_list):\n",
    "#     filename = f'CircuitPlots/Sec3_plot{i + 1}.png'\n",
    "#     print(f\"Saving circuit {i + 1} as {filename}\")\n",
    "#     circuit_drawer(circuit, output='mpl', filename=filename)\n",
    "#     plt.close()  # Close the plot to prevent overlapping\n",
    "    \n",
    "# # Same after Transpile\n",
    "\n",
    "# for i, circuit in enumerate(circ_list):\n",
    "#     filename = f'TranspiledCircuitPlots/Sec3_plot{i + 1}.png'\n",
    "#     print(f\"Saving circuit {i + 1} as {filename}\")\n",
    "#     circuit_drawer(circuit, output='mpl', filename=filename)\n",
    "#     plt.close()  # Close the plot to prevent overlapping\n",
    "\n",
    "    \n"
   ]
  },
  {
   "cell_type": "markdown",
   "id": "61cef3f3-461d-4a47-b4fc-d75e7099dee4",
   "metadata": {},
   "source": [
    "# **Execute On Real QM !**"
   ]
  },
  {
   "cell_type": "code",
   "execution_count": 12,
   "id": "25265f1f-54e0-4d2b-bc74-476e64beab30",
   "metadata": {},
   "outputs": [],
   "source": [
    "total_shots = 16384 # Optional to Change "
   ]
  },
  {
   "cell_type": "markdown",
   "id": "fcdab3f8-3613-42c6-91d9-efd322380652",
   "metadata": {},
   "source": [
    "**UnComment To Run on Real Machine!:**"
   ]
  },
  {
   "cell_type": "code",
   "execution_count": 13,
   "id": "e3a719db-c6e0-4ebd-8f66-82f161a49f24",
   "metadata": {
    "tags": []
   },
   "outputs": [],
   "source": [
    "# Execute the circuit on ibmq_manila!\n",
    "\n",
    "# # job_sim = backend_sim.run(transpile(temp_qc, backend_sim), shots=total_shots) # Simulator\n",
    "\n",
    "# job_manila = backend_manila.run(circ_list,job_name='Nadav', shots=total_shots) # Real Machine"
   ]
  },
  {
   "cell_type": "markdown",
   "id": "e3bcd848-190e-48fa-997c-b0fa34a3ae6d",
   "metadata": {},
   "source": [
    "**Wait For Execution On QM Before Retrieving Job**\n",
    "* Adjustment of: **job_id** might be required \n",
    "* After Retrieving once could be commented until Restarting Kernel"
   ]
  },
  {
   "cell_type": "code",
   "execution_count": 35,
   "id": "482de1d9-9129-47ab-97ee-cd7318e8a557",
   "metadata": {
    "tags": []
   },
   "outputs": [],
   "source": [
    "# Grab the results from the job:\n",
    "\n",
    " ## result_sim = job_sim.result() # Simulator\n",
    "\n",
    "# Change per each execution on IBMQ Machine:\n",
    "\n",
    "# Jobs with: total_shots = 2048\n",
    "job_id1 = 'cjedngbqmesr7lhj5a3g' # Bug1: Had none Optimality Bug (16 measurements instead of 9), Still Valid! \n",
    "job_id2 = 'cjf2ecklik6102p271sg' # Bug1: fixed\n",
    "\n",
    "job_id3 = 'cjfs4fv6dei06650v15g' # Cant remember \n",
    "\n",
    "job_id4 = 'cjfs53ocs414jvh5tiu0' # total_shots = 16384\n",
    "job_id5 = 'cjhnm9q67vbih39cu6lg' # total_shots = 16384\n",
    "job_id6 = 'cjho3sriept3ght6s4s0' # total_shots = 16384\n",
    "job_id7 = 'cjho49riept3ght6sdp0' # total_shots = 16384\n",
    "# Not processed yet\n",
    "job_id8 = 'cji7j6cul2rlcpo6neng' # total_shots = 16384\n",
    "job_id9 = 'cji7j727fkv7bhtjo66g' # total_shots = 16384\n",
    "job_id10 = 'cji7j7sul2rlcpo6nfcg' # total_shots = 16384\n",
    "job_id11 = 'cji7j8rsogidtk7aodqg' # total_shots = 16384\n",
    "job_id12 = 'cji7j9j3smr2evnde6lg' # total_shots = 16384\n",
    "job_id13 = 'cji7jacul2rlcpo6ngkg' # total_shots = 16384\n",
    "job_id14 = 'cji7jbkul2rlcpo6nh60' # total_shots = 16384\n",
    "job_id15 = 'cji7jci7fkv7bhtjo9d0' # total_shots = 16384\n",
    "\n",
    "total_shots = 16384 # Adapt for Analysis\n",
    "\n",
    "# Retrieve Job From Real Machine (do it once...):\n",
    "result_manila = backend_manila.retrieve_job(job_id15) # Choose desired job to retrieve \n",
    "\n",
    "# For Validation:\n",
    "# print(type(result_manila.result()))\n",
    "# print(result_manila.result())"
   ]
  },
  {
   "cell_type": "markdown",
   "id": "11087339-fb36-43b4-ad57-42d760028873",
   "metadata": {},
   "source": [
    "# **Final Processing:**\n",
    "\n",
    "**Change total_shots !**"
   ]
  },
  {
   "cell_type": "code",
   "execution_count": 36,
   "id": "bafb4a21-f4ae-4e66-9716-39e3c479367e",
   "metadata": {
    "tags": []
   },
   "outputs": [
    {
     "name": "stdout",
     "output_type": "stream",
     "text": [
      "Total Expectation Value: -0.0024644285440444946\n"
     ]
    }
   ],
   "source": [
    "# Calculate the expectation value for each basis_wit\n",
    "expectation_values = []\n",
    "total_expectation_value = 0  # Initialize the total expectation value\n",
    "\n",
    "dict_list_hex = [result_manila.result().results[i].data.counts for i in range(job_length)] # Extract counts data from job's results \n",
    "dict_list_binary = [] \n",
    "\n",
    "for hex_dict in dict_list_hex:  # Iterate over the list of dictionaries containing experimental results\n",
    "    binary_counts_dict = rename_keys_to_str(hex_dict)  # Convert keys to binary strings\n",
    "    dict_list_binary.append(binary_counts_dict)\n",
    "i=0\n",
    "# print(dict_list_binary)\n",
    "for binary_counts_dict in dict_list_binary:\n",
    "    expectation_val = calculate_expectation_value(bases_wit, bases_exp, binary_counts_dict)\n",
    "    expectation_values.append(expectation_val)\n",
    "    total_expectation_value += expectation_val\n",
    "\n",
    "    # Plot histogram using matplotlib\n",
    "    # plt.figure(figsize=(8, 6))\n",
    "    # plt.bar(binary_counts_dict.keys(), binary_counts_dict.values())\n",
    "    # plt.xlabel('Measurement')\n",
    "    # plt.ylabel('Counts')\n",
    "    # plt.title(r'Bar Plot of $' + str(bases_exp[i]) + '$')\n",
    "    # plt.show()\n",
    "    # plt.pause(0.5)  # Add a delay to observe the histogram before proceeding\n",
    "    i+=1\n",
    "    \n",
    "# Calculate and print the total expectation value\n",
    "print(\"Total Expectation Value:\", total_expectation_value)\n"
   ]
  },
  {
   "cell_type": "markdown",
   "id": "542a1709-c003-41ad-bf22-0c6b45638177",
   "metadata": {},
   "source": [
    "# Results and Statistics"
   ]
  },
  {
   "cell_type": "markdown",
   "id": "a1bffaf7-9267-42bc-bc55-a01582bd8aa8",
   "metadata": {},
   "source": [
    "**Collecting results after processing:**"
   ]
  },
  {
   "cell_type": "code",
   "execution_count": 39,
   "id": "4086f445-2208-4367-9fe3-c41cd2309c3c",
   "metadata": {},
   "outputs": [
    {
     "name": "stdout",
     "output_type": "stream",
     "text": [
      "Mean of expectation values -0.0026848730631172657\n",
      "Standard deviation of expectation values 7.977085330393561e-05\n"
     ]
    }
   ],
   "source": [
    "res_job4 = -0.0027367398142814636\n",
    "res_job5 = -0.0027540624141693115\n",
    "res_job6 = -0.0027785450220108032\n",
    "res_job7 = -0.0027027875185012817\n",
    "res_job8 = -0.002727039158344269\n",
    "res_job9 = -0.0026736855506896973\n",
    "res_job10 = -0.0026531293988227844\n",
    "res_job11 = -0.0026531293988227844\n",
    "res_job12 = -0.002743033692240715\n",
    "res_job13 = -0.002705790102481842\n",
    "res_job14 = -0.0026261061429977417\n",
    "res_job15 = -0.0024644285440444946\n",
    "\n",
    "\n",
    "\n",
    "res_array = np.array([-0.0027367398142814636\n",
    "                      , -0.0027540624141693115\n",
    "                      , -0.0027785450220108032\n",
    "                      , -0.0027027875185012817\n",
    "                      , -0.002727039158344269\n",
    "                      , -0.0026736855506896973\n",
    "                      , -0.0026531293988227844\n",
    "                      , -0.0026531293988227844\n",
    "                      , -0.002743033692240715\n",
    "                      , -0.002705790102481842\n",
    "                      , -0.0026261061429977417\n",
    "                      , -0.0024644285440444946])\n",
    "res_std = res_array.std()\n",
    "res_mean = res_array.mean()\n",
    "print(\"Mean of expectation values\", res_mean)\n",
    "print(\"Standard deviation of expectation values\", res_std)"
   ]
  },
  {
   "cell_type": "markdown",
   "id": "430aeab0-ebec-4b26-a6e3-11f06207fb48",
   "metadata": {},
   "source": [
    "**Perform statistical test hipotesis:**"
   ]
  },
  {
   "cell_type": "code",
   "execution_count": 40,
   "id": "25882245-5049-424c-b2fd-0f1bb5211782",
   "metadata": {},
   "outputs": [
    {
     "name": "stdout",
     "output_type": "stream",
     "text": [
      "Reject null hypothesis: The mean is significantly less than zero.\n",
      "Non-SRU\n"
     ]
    }
   ],
   "source": [
    "from scipy import stats\n",
    "\n",
    "# Sample data (replace with your actual data)\n",
    "res_array = np.array([-0.0027367398142814636, -0.0027540624141693115,\n",
    "                      -0.0027785450220108032, -0.0027027875185012817])\n",
    "\n",
    "# Perform one-sample t-test\n",
    "t_statistic, p_value = stats.ttest_1samp(res_array, popmean=0)\n",
    "\n",
    "# Significance level\n",
    "alpha = 0.01\n",
    "\n",
    "# Check if the p-value is less than the significance level\n",
    "if p_value < alpha:\n",
    "    print(\"Reject null hypothesis: The mean is significantly less than zero.\")\n",
    "    if res_array.mean() <= 0:\n",
    "        print(\"Non-SRU\")\n",
    "    else:\n",
    "        print(\"SRU\")\n",
    "else:\n",
    "    print(\"Fail to reject null hypothesis: The mean is not significantly less than zero.\")\n",
    "    if res_array.mean() <= 0:\n",
    "        print(\"SRU\")\n",
    "    else:\n",
    "        print(\"Non-SRU\")"
   ]
  },
  {
   "cell_type": "markdown",
   "id": "6f3b340e-b48c-4e75-bca3-f27c03457c6b",
   "metadata": {
    "tags": []
   },
   "source": [
    "# Dumb Stuff "
   ]
  },
  {
   "cell_type": "code",
   "execution_count": 41,
   "id": "a91923a6-381a-4f85-aece-44425cc14f13",
   "metadata": {},
   "outputs": [
    {
     "name": "stdout",
     "output_type": "stream",
     "text": [
      "Total lines of code: 445\n"
     ]
    }
   ],
   "source": [
    "# from nbformat import read\n",
    "\n",
    "# # Load the Jupyter notebook file\n",
    "# with open('QC_Detection_IBMQ.ipynb', 'r') as nb_file:\n",
    "#     nb = read(nb_file, as_version=4)\n",
    "\n",
    "# # Count the total number of lines in code cells\n",
    "# total_lines = sum(len(cell['source'].split('\\n')) for cell in nb.cells if cell.cell_type == 'code')\n",
    "\n",
    "# print(\"Total lines of code:\", total_lines)"
   ]
  },
  {
   "cell_type": "code",
   "execution_count": null,
   "id": "9d19bd84-cd09-426b-b1cb-b4a271e35b84",
   "metadata": {},
   "outputs": [],
   "source": []
  }
 ],
 "metadata": {
  "kernelspec": {
   "display_name": "Python 3 (ipykernel)",
   "language": "python",
   "name": "python3"
  },
  "language_info": {
   "codemirror_mode": {
    "name": "ipython",
    "version": 3
   },
   "file_extension": ".py",
   "mimetype": "text/x-python",
   "name": "python",
   "nbconvert_exporter": "python",
   "pygments_lexer": "ipython3",
   "version": "3.11.6"
  }
 },
 "nbformat": 4,
 "nbformat_minor": 5
}
