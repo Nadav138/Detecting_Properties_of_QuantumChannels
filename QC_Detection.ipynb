{
 "cells": [
  {
   "cell_type": "code",
   "execution_count": 1,
   "id": "ab6861e2-814e-417f-bd94-aeb54db974d1",
   "metadata": {},
   "outputs": [],
   "source": [
    "# Useful additional packages \n",
    "import matplotlib.pyplot as plt\n",
    "import numpy as np\n",
    "from math import pi"
   ]
  },
  {
   "cell_type": "code",
   "execution_count": 2,
   "id": "e320402f-8e9f-47b9-a501-b697a849a2d1",
   "metadata": {},
   "outputs": [],
   "source": [
    "from qiskit import QuantumCircuit, ClassicalRegister, QuantumRegister, transpile, Aer, execute, assemble\n",
    "from qiskit.tools.visualization import circuit_drawer, plot_bloch_multivector, plot_histogram\n",
    "import qiskit.quantum_info as qi\n"
   ]
  },
  {
   "cell_type": "code",
   "execution_count": 3,
   "id": "344d2ffa-4d33-4935-8281-4c097cc4f5cc",
   "metadata": {},
   "outputs": [],
   "source": [
    "# pip install qiskit_ibm_provider\n"
   ]
  },
  {
   "cell_type": "code",
   "execution_count": 4,
   "id": "b6fcdb70-9d7d-4302-8dc4-80e8db93864a",
   "metadata": {},
   "outputs": [],
   "source": [
    "# from qiskit import IBMQ\n",
    "# IBMQ.load_account()\n",
    "# provider = IBMQ.get_provider(hub='ibm-q-wits', group='internal', project='stellenbosch-uni')\n"
   ]
  },
  {
   "cell_type": "markdown",
   "id": "69664b1c-3c84-4b88-934a-ddcdec738111",
   "metadata": {
    "tags": []
   },
   "source": [
    "# Functions"
   ]
  },
  {
   "cell_type": "markdown",
   "id": "defa0c5b-7eb2-4673-a65c-f8435edc24c6",
   "metadata": {},
   "source": [
    "**Me Completing Hjalmar:**"
   ]
  },
  {
   "cell_type": "code",
   "execution_count": 5,
   "id": "effbd402-3e4f-4659-94b1-82fefe945518",
   "metadata": {
    "tags": []
   },
   "outputs": [],
   "source": [
    "\"\"\"Calculates expectation value of a witness operator.\n",
    "\n",
    "Takes as input a Qiskit counts dictionary for a set of physically measured\n",
    "operators\n",
    "\"\"\"\n",
    "\n",
    "\n",
    "def compare(pauli_str_wit, pauli_str_exp):\n",
    "    \"\"\"Check whether pauli_wit can be derived from pauli_exp.\n",
    "    i.e. we want to know whether all non-'I' entries of pauli_wit match up\n",
    "    with pauli_exp\n",
    "    \"\"\"\n",
    "    all_match = True\n",
    "    for i in range(len(pauli_str_wit)):\n",
    "        if pauli_str_wit[i] != 'I':\n",
    "            if pauli_str_wit[i] != pauli_str_exp[i]:\n",
    "                all_match = False\n",
    "\n",
    "    return all_match\n",
    "\n",
    "def expectation_from_counts(op_str, counts):\n",
    "    \"\"\"Calculate the expectation value of multi-qubit operator.\n",
    "\n",
    "    Takes as input a Qiskit counts dict. If the operator contains identities\n",
    "    the counts dict for a different but matching operator may be substituted.\n",
    "\n",
    "    e.g. for 'XIXI' the counts dict of 'XYXZ' may be used.\n",
    "    \"\"\"\n",
    "    expectation_val = 0\n",
    "    for outcome, outcome_count in counts.items():\n",
    "        eigval = 1\n",
    "        for i in range(len(op_str)):\n",
    "            if op_str[i] != 'I':\n",
    "                eigval *= -1 if outcome[i] == '1' else 1\n",
    "\n",
    "        expectation_val += eigval * outcome_count\n",
    "\n",
    "    return expectation_val\n",
    "\n",
    "\n",
    "# Define the function to calculate expectation value of W_CNOT\n",
    "\n",
    "def calculate_expectation_value(basis_wit, bases_exp, counts):\n",
    "    \"\"\"Calculate the expectation value of a witness operator.\n",
    "\n",
    "    Takes as input the witness operator basis, a list of expected operator bases,\n",
    "    and a Qiskit counts dictionary for a set of physically measured operators.\n",
    "\n",
    "    Parameters:\n",
    "    - basis_wit (list of tuples): List of tuples, each containing the sign and Pauli string of a witness operator.\n",
    "    - bases_exp (list of strings): List of expected operator bases.\n",
    "    - counts (dict): Qiskit counts dictionary containing the outcomes of quantum measurements.\n",
    "\n",
    "    Returns:\n",
    "    - float: The calculated expectation value of the witness operator.\n",
    "    \"\"\"\n",
    "    expectation_val_wit = 0\n",
    "    for tup in basis_wit:\n",
    "        sign = tup[0]\n",
    "        pauli_str_wit = tup[1]\n",
    "\n",
    "        for pauli_str_exp in bases_exp:\n",
    "            if compare(pauli_str_wit, pauli_str_exp):\n",
    "                expectation_val_wit += sign * expectation_from_counts(pauli_str_exp, counts)\n",
    "                break\n",
    "\n",
    "    expectation_val_wit /= total_shots\n",
    "\n",
    "    return expectation_val_wit\n",
    "\n"
   ]
  },
  {
   "cell_type": "markdown",
   "id": "f5f3608f-46c7-4883-8a4c-acdf3bc94075",
   "metadata": {
    "tags": []
   },
   "source": [
    "# States & Operators Definitions:"
   ]
  },
  {
   "cell_type": "code",
   "execution_count": 6,
   "id": "aa1c97e6-309a-4d42-9a16-06cc12ce6aa5",
   "metadata": {
    "tags": []
   },
   "outputs": [
    {
     "name": "stdout",
     "output_type": "stream",
     "text": [
      "[[ 0.   0.  -0.   0. ]\n",
      " [ 0.   0.5 -0.5  0. ]\n",
      " [-0.  -0.5  0.5 -0. ]\n",
      " [ 0.   0.  -0.   0. ]]\n"
     ]
    }
   ],
   "source": [
    "XX = qi.Pauli('XX')\n",
    "YY = qi.Pauli('YY') \n",
    "ZZ = qi.Pauli('ZZ')\n",
    "II = qi.Operator.from_label('II')\n",
    "\n",
    "# Matrix representations of Pauli operators\n",
    "XX_matrix = XX.to_matrix()\n",
    "YY_matrix = YY.to_matrix()\n",
    "ZZ_matrix = ZZ.to_matrix()\n",
    "II_matrix = np.eye(4)\n",
    "\n",
    "\n",
    "# Define the maximally entangled state |α⟩⟨α|\n",
    "alpha = np.array([0, 1, -1, 0]) / np.sqrt(2)\n",
    "alpha_density_matrix = np.outer(alpha, alpha.conj())\n",
    "print(alpha_density_matrix)\n",
    "\n",
    "\n",
    "# Bell's Density matrices:\n",
    "\n",
    "v00 = qi.Statevector.from_label('00')\n",
    "v01 = qi.Statevector.from_label('01')\n",
    "v10 = qi.Statevector.from_label('10')\n",
    "v11 = qi.Statevector.from_label('11')\n",
    "\n",
    "PhiPlus = qi.DensityMatrix(1/np.sqrt(2)*(v00+v11))\n",
    "PhiMinus = qi.DensityMatrix(1/np.sqrt(2)*(v00-v11))\n",
    "PsiPlus = qi.DensityMatrix(1/np.sqrt(2)*(v01+v10))\n",
    "PsiMinus = qi.DensityMatrix(1/np.sqrt(2)*(v01-v10))\n",
    "\n",
    "# Bell_state_list = [PhiPlus, PhiMinus, PsiPlus, PsiMinus]\n"
   ]
  },
  {
   "cell_type": "markdown",
   "id": "3e14a11c-5a6e-4583-a9fe-19cf07d7c4c8",
   "metadata": {
    "tags": []
   },
   "source": [
    "# Warner State & Witness Operator:"
   ]
  },
  {
   "cell_type": "code",
   "execution_count": 7,
   "id": "9b86e397-499f-4602-9a6a-58d5734203f9",
   "metadata": {
    "tags": []
   },
   "outputs": [
    {
     "name": "stdout",
     "output_type": "stream",
     "text": [
      "Trace in Numpy is: 0.9999999999999998\n",
      "Trace in Qiskit is: (0.9999999999999998+0j)\n",
      "\n",
      "Type in Numpy is: <class 'numpy.ndarray'>\n",
      "Type in Qiskit is: <class 'qiskit.quantum_info.states.densitymatrix.DensityMatrix'>\n",
      "\n",
      "Werner state Numpy:\n",
      "\n",
      "[[ 0.   0.   0.   0. ]\n",
      " [ 0.   0.5 -0.5  0. ]\n",
      " [ 0.  -0.5  0.5  0. ]\n",
      " [ 0.   0.   0.   0. ]]\n",
      "\n",
      "Werner state Qiskit:\n",
      "\n",
      "DensityMatrix([[ 0. +0.j,  0. +0.j,  0. +0.j,  0. +0.j],\n",
      "               [ 0. +0.j,  0.5+0.j, -0.5+0.j,  0. +0.j],\n",
      "               [ 0. +0.j, -0.5+0.j,  0.5+0.j,  0. +0.j],\n",
      "               [ 0. +0.j,  0. +0.j,  0. +0.j,  0. +0.j]],\n",
      "              dims=(2, 2))\n"
     ]
    }
   ],
   "source": [
    "#  Numpy:\n",
    "# Create the Werner density matrix ρₚ\n",
    "werner_density_matrix_lambda = lambda p: (1 - 4/3 * p) * alpha_density_matrix + (p/3) * II_matrix\n",
    "\n",
    "# Create the Witness Operator\n",
    "Witness_EB_matrix = 0.5 * (II_matrix + XX_matrix + YY_matrix + ZZ_matrix)\n",
    "\n",
    "# Same with Qskit:\n",
    "werner_density_matrix_lambda_qiskit = lambda p: (1 - 4/3 * p) * PsiMinus + (p/3) * II       # No sure which Bell state\n",
    "Witness_EB = 0.5 * (II + XX + YY + ZZ)                                              # Signs !\n",
    "\n",
    "# Tests:\n",
    "print(\"Trace in Numpy is:\", np.trace(werner_density_matrix_lambda(0)))\n",
    "print(\"Trace in Qiskit is:\", werner_density_matrix_lambda_qiskit(0).trace())\n",
    "print()\n",
    "print(\"Type in Numpy is:\", type(werner_density_matrix_lambda(0)))\n",
    "print(\"Type in Qiskit is:\", type(werner_density_matrix_lambda_qiskit(0)))\n",
    "print()\n",
    "print(\"Werner state Numpy:\")\n",
    "print()\n",
    "print(werner_density_matrix_lambda(0))\n",
    "print()\n",
    "print(\"Werner state Qiskit:\")\n",
    "print()\n",
    "print(werner_density_matrix_lambda_qiskit(0))"
   ]
  },
  {
   "cell_type": "markdown",
   "id": "04ddd8e2-dbfe-424a-90e1-cdd758d0857e",
   "metadata": {
    "tags": []
   },
   "source": [
    "# Applying & Ploting \n",
    "* Applying $W_{EB}$ on $\\rho_p$, the Werner density matrix, fro diffrent values of $p\\in [0,1]$, and ploting\n",
    "* The process is done in both Qiskit and Numpy (for practice and debugging)"
   ]
  },
  {
   "cell_type": "code",
   "execution_count": 8,
   "id": "3f4451ef-1e95-4bf9-99b7-c04da42f0d5d",
   "metadata": {
    "tags": []
   },
   "outputs": [],
   "source": [
    "# Parameters\n",
    "p_list = list(np.linspace(0, 1, 100))\n",
    "trace_list = []\n",
    "trace_list_qiskit = []\n",
    "\n",
    "for val in p_list:\n",
    "    witness_werner = Witness_EB_matrix @ werner_density_matrix_lambda(val)\n",
    "    # print(witness_werner)\n",
    "    # witness_werner = qi.DensityMatrix(werner_density_matrix_lambda(val)).evolve(qi.Operator(Witness_EB_matrix))\n",
    "    Tr_witness_werner = np.trace(witness_werner)\n",
    "    trace_list.append(Tr_witness_werner)\n",
    "    \n",
    "    witness_werner_qiskit = Witness_EB @ werner_density_matrix_lambda_qiskit(val).to_operator()\n",
    "    # witness_werner_qiskit = Witness_EB.data @ werner_density_matrix_lambda_qiskit(val).data # Also an option\n",
    "    \n",
    "    Tr_qiskit = np.trace(witness_werner_qiskit)\n",
    "    # Tr_qiskit = witness_werner_qiskit.trace() # rasies an error \n",
    "    trace_list_qiskit.append(Tr_qiskit)\n",
    "    \n",
    "## Plot the results\n",
    "# plt.plot(p_list, trace_list, label='By Numpy')\n",
    "# plt.plot(p_list, trace_list_qiskit, label='By Qiskit')\n",
    "# plt.xlabel('p')\n",
    "# plt.ylabel('Trace')\n",
    "# plt.title('Trace of Witness_EB_matrix * Werner density matrix')\n",
    "# plt.grid()\n",
    "# plt.legend()\n",
    "# plt.show()\n"
   ]
  },
  {
   "cell_type": "markdown",
   "id": "d1f38ba7-87b2-4a10-bdd6-f415eef16c72",
   "metadata": {
    "tags": []
   },
   "source": [
    "# Section $III$ :"
   ]
  },
  {
   "cell_type": "markdown",
   "id": "686a7166-0ea2-4fd9-9aeb-8dbb191bab1c",
   "metadata": {
    "tags": []
   },
   "source": [
    "<!-- # Not Necessarily Useful... (Focused on Sec.III at the Moment)\n",
    "**Witness Operators for general PPT Channels - steps:** \n",
    "\n",
    "* We want to detect entanglement in NPT/PPT map; $\\mathcal{M}$\n",
    "* We difiene the witness operator:\n",
    "* $$W_{PPT}= \\ket{\\lambda_{-}} \\bra{\\lambda_{-}}^\\mathcal{T_A}$$\n",
    "* $\\ket{\\lambda_{-}}$ is most negative value of the NPT (or PPT, right?) map $\\mathcal{M}$\n",
    "* For the general case I will probably implement $W_{PPT}$ by Eq.(40) from the main paper\n",
    "\n",
    "\n",
    "* **Reading on Witness in general**\n",
    "* **Ref.(7) (idea)**\n",
    "* **Sec.V** -->"
   ]
  },
  {
   "cell_type": "code",
   "execution_count": 42,
   "id": "9e413829-4388-403c-b6e4-5d268c31848f",
   "metadata": {
    "tags": []
   },
   "outputs": [
    {
     "data": {
      "image/png": "[encoded data removed]",
      "text/plain": [
       "<Figure size 538.33x451.5 with 1 Axes>"
      ]
     },
     "execution_count": 42,
     "metadata": {},
     "output_type": "execute_result"
    }
   ],
   "source": [
    "# Bell's Density matrices:\n",
    "# v00, v01, v10, v11, PhiPlus, PhiMinus, PsiPlus, PsiMinus are defined here\n",
    "\n",
    "# Step 1: Create the quantum circuit\n",
    "qc = QuantumCircuit(4, 4)\n",
    "\n",
    "# Choose Bell states for qubits AC and BD\n",
    "rho_AC = PhiPlus  # Choose the desired Bell state for qubits AC\n",
    "rho_BD = PhiPlus  # Choose the desired Bell state for qubits BD\n",
    "\n",
    "# Extract amplitudes from the density matrices\n",
    "amplitudes_AC = np.sqrt(np.diag(rho_AC.data))\n",
    "amplitudes_BD = np.sqrt(np.diag(rho_BD.data))\n",
    "\n",
    "# Apply initialization to qubits AC and BD\n",
    "qc.initialize(amplitudes_AC, [0, 2])\n",
    "qc.initialize(amplitudes_BD, [1, 3])\n",
    "\n",
    "# Apply CNOT gate on qubits A and B\n",
    "qc.cx(0, 1) # temp cx ---> cz\n",
    "\n",
    "# Visualize the circuit without measurements\n",
    "qc.draw('mpl')\n",
    "\n"
   ]
  },
  {
   "cell_type": "markdown",
   "id": "dec11186-e08e-48f6-86be-64ac9e5d61d4",
   "metadata": {
    "tags": []
   },
   "source": [
    "$W_{CNOT}=$\n",
    "$\\frac{1}{64}[31*1111−1X1X−XXX1−X1XX−ZZ1Z+ZY1Y +YYXZ+YZXY−Z1Z1−ZXZX+YXY 1+Y1YX−1ZZZ+1YZY +XYYZ+XZYY]$\n",
    "\n",
    "By the paper, the expectation values of operators: [$1X1X$ , $XXX1$ , $X1XX$]\n",
    "\n",
    "can be obtained by measuring the operator XXXX and suitably processing the experimental data.\n",
    "\n",
    "Similar groupings can be done for the other terms in $W_{CNOT}$"
   ]
  },
  {
   "cell_type": "code",
   "execution_count": 41,
   "id": "2ea7d46a-dd1b-4b64-be35-79c48ee7bfcb",
   "metadata": {
    "tags": []
   },
   "outputs": [
    {
     "name": "stdout",
     "output_type": "stream",
     "text": [
      "Average of expectation values: -0.1597900390625\n"
     ]
    }
   ],
   "source": [
    "# Define the measurement bases\n",
    "bases_exp = ['XXXX', 'ZZZZ', 'ZYZY', 'YXYX', 'YYXZ', 'YZXY', 'ZXZX', 'XYYZ', 'ZXYY']\n",
    "\n",
    "bases_wit = [(31, 'IIII'),(-1, 'IXIX'),(-1, 'XXXI'),(-1, 'XIIX'),\n",
    "             (-1, 'ZZIZ'),(+1, 'ZYIY'),(+1, 'YYXZ'),(+1, 'YZXY'),\n",
    "             (-1, 'ZIZI'),(-1, 'ZXZX'),(+1, 'YXYI'),(+1, 'YIYX'),\n",
    "             (-1, 'IZZZ'),(+1, 'IYZY'),(+1, 'XYYZ'),(+1, 'XZYY')]\n",
    "\n",
    "# Use Aer's qasm_simulator\n",
    "backend_sim = Aer.get_backend('qasm_simulator')\n",
    "\n",
    "# Loop over each basis_wit\n",
    "expectation_values = []\n",
    "for basis_wit in bases_wit:\n",
    "    temp_qc = qc.copy()\n",
    "\n",
    "    # Apply gates for the specified basis_wit\n",
    "    for i, gate in enumerate(basis_wit[1]):  # Use basis_wit[1] to access the Pauli string\n",
    "        if gate == 'X':\n",
    "            temp_qc.h(i)\n",
    "        elif gate == 'Y':\n",
    "            temp_qc.sdg(i)\n",
    "            temp_qc.h(i)\n",
    "\n",
    "    # Measure the circuit\n",
    "    temp_qc.measure([0, 1, 2, 3], [0, 1, 2, 3])\n",
    "\n",
    "    # Execute the circuit on the qasm simulator.\n",
    "    total_shots = 1024\n",
    "    job_sim = backend_sim.run(transpile(temp_qc, backend_sim), shots=total_shots)\n",
    "\n",
    "    # Grab the results from the job.\n",
    "    result_sim = job_sim.result()\n",
    "\n",
    "    # Get counts\n",
    "    counts = result_sim.get_counts()\n",
    "\n",
    "    # Calculate the expectation value for the current basis_wit\n",
    "    expectation_val = calculate_expectation_value([basis_wit], bases_exp, counts)\n",
    "    expectation_values.append(expectation_val)\n",
    "\n",
    "\n",
    "#     # Plot histogram using matplotlib (Optional)\n",
    "    \n",
    "#     plt.figure(figsize=(8, 6))\n",
    "#     plt.bar(counts.keys(), counts.values())\n",
    "#     plt.xlabel('Measurement')\n",
    "#     plt.ylabel('Counts')\n",
    "#     plt.title(f'Histogram for basis {basis_wit[1]}')  # Use basis_wit[1] to display the Pauli string\n",
    "#     plt.show()\n",
    "\n",
    "# Print the average of expectation values\n",
    "print(\"Average of expectation values:\", sum(expectation_values) / len(expectation_values))\n"
   ]
  },
  {
   "cell_type": "markdown",
   "id": "24390816-2ac0-4f28-bf9b-237773205765",
   "metadata": {
    "tags": []
   },
   "source": [
    "# **Hjalmar raw code +  other duplications:**\n",
    "1. **Hjalmar raw code:** "
   ]
  },
  {
   "cell_type": "code",
   "execution_count": 11,
   "id": "e55207be-04f8-4e8e-8b01-8245d884195c",
   "metadata": {
    "jupyter": {
     "source_hidden": true
    },
    "tags": []
   },
   "outputs": [],
   "source": [
    "\n",
    "\n",
    "# # bases_exp = ['XXXX', 'ZZZZ', 'ZYZY', 'YXYX', 'YYXZ', 'YZXY', 'ZXZX', 'XYYZ', 'ZXYY']\n",
    "\n",
    "# # bases_wit = [(1, 'IIII'),(-1, 'IXIX'),(-1, 'XXXI'),(-1, 'XIIX'),\n",
    "# #              (-1, 'ZZIZ'),(+1, 'ZYIY'),(+1, 'YYXZ'),(+1, 'YZXY'),\n",
    "# #              (-1, 'ZIZI'),(-1, 'ZXZX'),(+1, 'YXYI'),(+1, 'YIYX'),\n",
    "# #              (-1, 'IZZZ'),(+1, 'IYZY'),(+1, 'XYYZ'),(+1, 'XZYY')]\n",
    "\n",
    "# def compare(pauli_str_wit, pauli_str_exp):\n",
    "#     \"\"\"Check whether pauli_wit can be derived from pauli_exp.\n",
    "\n",
    "#     i.e. we want to know whether all non-'I' entries of pauli_wit match up\n",
    "#     with pauli_exp\n",
    "#     \"\"\"\n",
    "#     all_match = True\n",
    "#     for i in len(pauli_str_wit):\n",
    "#         if pauli_str_wit[i] != 'I':\n",
    "#             if pauli_str_wit[i] != pauli_str_exp[i]:\n",
    "#                 all_match = False\n",
    "\n",
    "#     return all_match\n",
    "\n",
    "\n",
    "# def expectation_from_counts(op_str, counts):\n",
    "#     \"\"\"Calculate the expectation value of multi-qubit operator.\n",
    "\n",
    "#     Takes as input a Qiskit counts dict. If the operator contains identities\n",
    "#     the counts dict for a different but matching operator may be substituted.\n",
    "\n",
    "#     e.g. for 'XIXI' the counts dict of 'XYXZ' may be used.\n",
    "#     \"\"\"\n",
    "#     expectation_val = 0\n",
    "#     for outcome, outcome_count in counts.items():\n",
    "#         eigval = 1\n",
    "#         for i in len(op_str):\n",
    "#             if op_str[i] != 'I':\n",
    "#                 eigval *= -1 if counts[i] == 1 else 1 \n",
    "\n",
    "#         expectation_val += eigval*outcome_count # Should we divide by the total number of counts in the dictionary (1024) ?\n",
    "\n",
    "#     return expectation_val\n",
    "\n",
    "\n",
    "# expectation_val_wit = 0\n",
    "# # for each operator in witness (thing we want to calculate)\n",
    "# for tup in bases_wit:\n",
    "#     # item is a tuple (sign, pauli_str_wit)\n",
    "#     sign = tup[0]  # first element of tuple\n",
    "#     pauli_str_wit = tup[1]  # second element of tuple\n",
    "\n",
    "#     # loop through exp operators until we find a match\n",
    "#     for pauli_str_exp in bases_exp:\n",
    "#         if compare(pauli_str_wit, pauli_str_exp):\n",
    "#             expectation_val_wit += sign * expectation_from_counts(pauli_str_wit, counts)\n",
    "#             break\n",
    "\n",
    "# expectation_val_wit /= (1/64)*[]  # I can't remember what the actual value is here\n",
    "# print(expectation_val_wit)"
   ]
  },
  {
   "cell_type": "markdown",
   "id": "8ea62aef-8481-454d-b7ee-861d2a5bd5bb",
   "metadata": {},
   "source": [
    "2. **Section III Raw:**"
   ]
  },
  {
   "cell_type": "code",
   "execution_count": 12,
   "id": "980a48f8-ea54-4161-bc0a-99247a9554b0",
   "metadata": {
    "jupyter": {
     "source_hidden": true
    },
    "tags": []
   },
   "outputs": [],
   "source": [
    "# # Bell's Density matrices:\n",
    "# # v00, v01, v10, v11, PhiPlus, PhiMinus, PsiPlus, PsiMinus are defined here\n",
    "\n",
    "# # Step 1: Create the quantum circuit\n",
    "# qc = QuantumCircuit(4)\n",
    "# # cr =ClassicalRegister(4,'cr')\n",
    "\n",
    "# # Choose Bell states for qubits AC and BD\n",
    "# # α = \n",
    "# rho_AC = PhiPlus  # Choose the desired Bell state for qubits AC\n",
    "# # rho_BD = 1/np.sqrt(2)(α +PsiMinus)  # Choose the desired Bell state for qubits BD\n",
    "# rho_BD = PhiPlus # Choose the desired Bell state for qubits BD\n",
    "\n",
    "# # Define the measurement bases\n",
    "# bases = ['XXXX', 'ZZZZ', 'ZYZY', 'YXYX', 'YYXZ', 'YZXY', 'ZXZX', 'XYYZ', 'ZXYY']\n",
    "\n",
    "\n",
    "# # Extract amplitudes from the density matrices\n",
    "# amplitudes_AC = np.sqrt(np.diag(rho_AC.data))\n",
    "# amplitudes_BD = np.sqrt(np.diag(rho_BD.data))\n",
    "\n",
    "# # Apply initialization to qubits AC and BD\n",
    "# qc.initialize(amplitudes_AC, [0, 2])\n",
    "# qc.initialize(amplitudes_BD, [1, 3])\n",
    "\n",
    "# # Apply CNOT gate on qubits A and B\n",
    "# qc.cx(0, 1)\n",
    "\n",
    "# # Visualize the circuit\n",
    "# # print(qc)\n",
    "# qc.draw('mpl')\n",
    "\n",
    "# # qc.measure([0,1,2,3],[0,1,2,3])\n",
    "\n",
    "# # # Use Aer's qasm_simulator\n",
    "# # backend_sim = Aer.get_backend('qasm_simulator')\n",
    "\n",
    "# # # Execute the circuit on the qasm simulator.\n",
    "# # # We've set the number of repeats of the circuit\n",
    "# # # to be 1024, which is the default.\n",
    "# # job_sim = backend_sim.run(transpile(qc, backend_sim), shots=(1024))\n",
    "\n",
    "# # # Grab the results from the job.\n",
    "# # result_sim = job_sim.result()\n"
   ]
  },
  {
   "cell_type": "markdown",
   "id": "fabf221f-ace7-47b6-a93f-7989e0f97c9c",
   "metadata": {},
   "source": [
    "3. **Worrng,Using: check_bit_parity_odd:**"
   ]
  },
  {
   "cell_type": "code",
   "execution_count": 13,
   "id": "f9162ccb-9f93-4e9e-a88e-d611074091da",
   "metadata": {
    "jupyter": {
     "source_hidden": true
    },
    "tags": []
   },
   "outputs": [],
   "source": [
    "# # # Define the measurement bases\n",
    "# # bases_exp = ['XXXX', 'ZZZZ', 'ZYZY', 'YXYX', 'YYXZ', 'YZXY', 'ZXZX', 'XYYZ', 'ZXYY']\n",
    "\n",
    "# # bases_wit = [(1, 'IIII'),(-1, 'IXIX'),(-1, 'XXXI'),(-1, 'XIIX'),\n",
    "# #              (-1, 'ZZIZ'),(+1, 'ZYIY'),(+1, 'YYXZ'),(+1, 'YZXY'),\n",
    "# #              (-1, 'ZIZI'),(-1, 'ZXZX'),(+1, 'YXYI'),(+1, 'YIYX'),\n",
    "# #              (-1, 'IZZZ'),(+1, 'IYZY'),(+1, 'XYYZ'),(+1, 'XZYY')]\n",
    "\n",
    "\n",
    "# # Use Aer's qasm_simulator\n",
    "# backend_sim = Aer.get_backend('qasm_simulator')\n",
    "# # Loop over each basis\n",
    "# for basis in bases:\n",
    "#     temp_qc = qc.copy()\n",
    "\n",
    "#     # Apply gates for the specified basis\n",
    "#     for i, gate in enumerate(basis):\n",
    "#         if gate == 'X':\n",
    "#             temp_qc.h(i)\n",
    "#         elif gate == 'Y':\n",
    "#             temp_qc.sdg(i)\n",
    "#             temp_qc.h(i)\n",
    "            \n",
    "#     # Measure the circuit\n",
    "#     temp_qc.measure([0, 1, 2, 3], [0, 1, 2, 3])\n",
    "\n",
    "#     # Execute the circuit on the qasm simulator.\n",
    "#     total_shots = 1024\n",
    "#     job_sim = backend_sim.run(transpile(temp_qc, backend_sim), shots=total_shots)\n",
    "\n",
    "#     # Grab the results from the job.\n",
    "#     result_sim = job_sim.result()\n",
    "\n",
    "#     # Get counts\n",
    "#     counts = result_sim.get_counts()\n",
    "    \n",
    "\n",
    "#     # Set the figure size for better layout\n",
    "#     plt.figure(figsize=(8, 6))\n",
    "\n",
    "#     # Plot histogram using matplotlib\n",
    "#     plt.bar(counts.keys(), counts.values())\n",
    "#     plt.xlabel('Measurement')\n",
    "#     plt.ylabel('Counts')\n",
    "#     plt.title(f'Histogram for basis {basis}')\n",
    "#     plt.show()\n",
    "    \n",
    "#     avg = 0  # I want to replace this by using the new functions.\n",
    "#     for x,y in counts.items():\n",
    "#         print(check_bit_parity_odd(x),y)\n",
    "#         avg+= -y if check_bit_parity_odd(x) else y\n",
    "#     avg/=1024\n",
    "#     print(avg)"
   ]
  },
  {
   "cell_type": "markdown",
   "id": "64e04a83-3ef1-4a22-9002-a64ffdd0ebea",
   "metadata": {
    "tags": []
   },
   "source": [
    "# Dumb Stuff "
   ]
  },
  {
   "cell_type": "code",
   "execution_count": 14,
   "id": "bc5afba0-5eec-40df-a0af-dd2746b18f95",
   "metadata": {
    "jupyter": {
     "source_hidden": true
    },
    "tags": []
   },
   "outputs": [
    {
     "name": "stdout",
     "output_type": "stream",
     "text": [
      "Total lines of code: 417\n"
     ]
    }
   ],
   "source": [
    "# from nbformat import read\n",
    "\n",
    "# # Load the Jupyter notebook file\n",
    "# with open('QC_Detection.ipynb', 'r') as nb_file:\n",
    "#     nb = read(nb_file, as_version=4)\n",
    "\n",
    "# # Count the total number of lines in code cells\n",
    "# total_lines = sum(len(cell['source'].split('\\n')) for cell in nb.cells if cell.cell_type == 'code')\n",
    "\n",
    "# print(\"Total lines of code:\", total_lines)"
   ]
  }
 ],
 "metadata": {
  "kernelspec": {
   "display_name": "Python 3 (ipykernel)",
   "language": "python",
   "name": "python3"
  },
  "language_info": {
   "codemirror_mode": {
    "name": "ipython",
    "version": 3
   },
   "file_extension": ".py",
   "mimetype": "text/x-python",
   "name": "python",
   "nbconvert_exporter": "python",
   "pygments_lexer": "ipython3",
   "version": "3.9.16"
  }
 },
 "nbformat": 4,
 "nbformat_minor": 5
}
